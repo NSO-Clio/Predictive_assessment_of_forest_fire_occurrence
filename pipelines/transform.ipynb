{
 "cells": [
  {
   "cell_type": "code",
   "execution_count": 104,
   "metadata": {},
   "outputs": [],
   "source": [
    "import rasterio\n",
    "import numpy as np\n",
    "import cv2\n",
    "from os import listdir\n",
    "import pandas as pd"
   ]
  },
  {
   "cell_type": "code",
   "execution_count": 105,
   "metadata": {},
   "outputs": [],
   "source": [
    "def get_rgb_geotiff(file_path, r_band=1, g_band=2, b_band=3, ik_band=4, mask_band=5, chanel=1):\n",
    "    try:\n",
    "        with rasterio.open(file_path) as src:\n",
    "            red = src.read(r_band)  # B02 - Blue\n",
    "            green = src.read(g_band)  # B03 - Green\n",
    "            blue = src.read(b_band)  # B04 - Red\n",
    "            ik = src.read(ik_band)\n",
    "            mask = src.read(mask_band)\n",
    "\n",
    "            if chanel == 1:\n",
    "                photo = np.clip(np.stack([red, green, blue], axis=-1).astype(float) * 3, 0, 255).astype(np.uint8)  # Отрисовка всего изображения\n",
    "            elif chanel == 2:\n",
    "                photo = np.stack([ik], axis=-1) # Отрисовка ИК-слоя изображения\n",
    "            elif chanel == 3:\n",
    "                photo = np.stack([mask], axis=-1) * 255  # Отрисовка маски изображения\n",
    "            photo = photo.astype(np.uint8)\n",
    "            return photo\n",
    "    except Exception as e:\n",
    "        print(f'Ошибка: {e}')\n",
    "\n",
    "\n",
    "def get_rgb_geotiff_data(file_path):\n",
    "    try:\n",
    "        with rasterio.open(file_path) as src:            \n",
    "            top_left = (src.transform * (0, 0))\n",
    "            bottom_right = (src.transform * (src.width, src.height))\n",
    "\n",
    "            middle_x = (top_left[0] + bottom_right[0]) / 2\n",
    "            middle_y = (top_left[1] + bottom_right[1]) / 2\n",
    "\n",
    "            return middle_x, middle_y\n",
    "    except Exception as e:\n",
    "        print(f'Ошибка: {e}')"
   ]
  },
  {
   "cell_type": "code",
   "execution_count": 106,
   "metadata": {},
   "outputs": [],
   "source": [
    "df = []\n",
    "df_weather = [] \n",
    "\n",
    "for i, folder in enumerate(listdir('temp')):\n",
    "    file = listdir(f\"temp/{folder}\")[0]\n",
    "    path = f'temp/{folder}/{file}'\n",
    "\n",
    "    temp = pd.read_csv(f\"temp/{folder}/{listdir(f'temp/{folder}')[1]}\")\n",
    "    temp['file'] = f'image_{i + 1}.jpg'\n",
    "    df_weather.append(temp.reset_index(drop=True))\n",
    "\n",
    "    data = '.'.join(file.split('.')[:-1])\n",
    "    middle_x, middle_y = get_rgb_geotiff_data(path)\n",
    "    df.append([f'image_{i + 1}.jpg', data, middle_x, middle_y])\n",
    "\n",
    "    cv2.imwrite(f'data/image/image_{i + 1}.jpg', get_rgb_geotiff(path, chanel=1))\n",
    "    cv2.imwrite(f'data/ik/image_{i + 1}.jpg', get_rgb_geotiff(path, chanel=2))\n",
    "    cv2.imwrite(f'data/mask/image_{i + 1}.jpg', get_rgb_geotiff(path, chanel=3))\n"
   ]
  },
  {
   "cell_type": "code",
   "execution_count": 107,
   "metadata": {},
   "outputs": [],
   "source": [
    "pd.DataFrame(df, columns=['file', 'date', 'middle_x', 'middle_y']).to_csv(\"data/metadata.csv\", index=None)"
   ]
  },
  {
   "cell_type": "code",
   "execution_count": 108,
   "metadata": {},
   "outputs": [],
   "source": [
    "temp = pd.concat(df_weather).dropna(how='all', axis=1)\n",
    "temp['Атмосферное Давление'] = temp['Атмосферное Давление'].fillna(temp['Давление на уровне моря'])\n",
    "temp.drop(['Давление на уровне моря'], axis=1, inplace=True)\n",
    "temp['time'] = pd.to_datetime(temp['time']).astype('int64') // 10 ** 11 # ! ПОМЕНЯТЬ ДЛЯ ТЕСТОВЫХ\n",
    "temp.fillna(0).to_csv(\"data/weather.csv\", index=None)"
   ]
  }
 ],
 "metadata": {
  "kernelspec": {
   "display_name": "Python 3",
   "language": "python",
   "name": "python3"
  },
  "language_info": {
   "codemirror_mode": {
    "name": "ipython",
    "version": 3
   },
   "file_extension": ".py",
   "mimetype": "text/x-python",
   "name": "python",
   "nbconvert_exporter": "python",
   "pygments_lexer": "ipython3",
   "version": "3.11.8"
  }
 },
 "nbformat": 4,
 "nbformat_minor": 2
}
